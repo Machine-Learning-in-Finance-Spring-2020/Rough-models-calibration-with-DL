{
 "cells": [
  {
   "cell_type": "markdown",
   "metadata": {},
   "source": [
    "# Modest approach for Heston model\n"
   ]
  },
  {
   "cell_type": "markdown",
   "metadata": {},
   "source": [
    "Original source of the notebook: Teichmann: https://nbviewer.jupyter.org/urls/people.math.ethz.ch/~jteichma/lecture_ml_web/heston_calibration.ipynb"
   ]
  },
  {
   "cell_type": "code",
   "execution_count": 10,
   "metadata": {
    "pycharm": {
     "is_executing": false
    }
   },
   "outputs": [
    {
     "name": "stdout",
     "text": [
      "The autoreload extension is already loaded. To reload it, use:\n",
      "  %reload_ext autoreload\n"
     ],
     "output_type": "stream"
    }
   ],
   "source": [
    "import QuantLib as ql\n",
    "from math import pow, sqrt , log\n",
    "import numpy as np\n",
    "from scipy.optimize import least_squares, differential_evolution\n",
    "from matplotlib import pyplot as plt,cm\n",
    "from pandas import DataFrame\n",
    "from itertools import product\n",
    "import pandas as pd\n",
    "import pickle\n",
    "import os\n",
    "import datetime as dt\n",
    "from scipy.stats import norm\n",
    "\n",
    "from src.rough_heston_simulation import *\n",
    "\n",
    "%load_ext autoreload\n",
    "%autoreload 2"
   ]
  },
  {
   "cell_type": "code",
   "execution_count": 11,
   "outputs": [
    {
     "traceback": [
      "\u001b[0;31m---------------------------------------------------------------------------\u001b[0m",
      "\u001b[0;31mAssertionError\u001b[0m                            Traceback (most recent call last)",
      "\u001b[0;32m<ipython-input-11-bc6c8dcc0402>\u001b[0m in \u001b[0;36m<module>\u001b[0;34m\u001b[0m\n\u001b[0;32m----> 1\u001b[0;31m \u001b[0mX\u001b[0m \u001b[0;34m=\u001b[0m \u001b[0msimulate_rough_heston\u001b[0m\u001b[0;34m(\u001b[0m\u001b[0;36m100\u001b[0m\u001b[0;34m,\u001b[0m \u001b[0;36m1\u001b[0m\u001b[0;34m)\u001b[0m\u001b[0;34m\u001b[0m\u001b[0;34m\u001b[0m\u001b[0m\n\u001b[0m\u001b[1;32m      2\u001b[0m \u001b[0;34m\u001b[0m\u001b[0m\n",
      "\u001b[0;32m~/Documents/machine_learning_in_finance/rough-models-calibration-with-DL/src/rough_heston_simulation.py\u001b[0m in \u001b[0;36msimulate_rough_heston\u001b[0;34m(n, m, terminal_time, log_spot_price, inst_var, mean_rev_speed, eq_var, vol_of_vol, correlation, alpha)\u001b[0m\n\u001b[1;32m     50\u001b[0m     \u001b[0mY\u001b[0m\u001b[0;34m,\u001b[0m \u001b[0mB\u001b[0m \u001b[0;34m=\u001b[0m \u001b[0m__simulate_volatility\u001b[0m\u001b[0;34m(\u001b[0m\u001b[0mn\u001b[0m\u001b[0;34m,\u001b[0m \u001b[0mm\u001b[0m\u001b[0;34m,\u001b[0m \u001b[0mT\u001b[0m\u001b[0;34m,\u001b[0m \u001b[0mY_0\u001b[0m\u001b[0;34m,\u001b[0m \u001b[0mkappa\u001b[0m\u001b[0;34m,\u001b[0m \u001b[0mtheta\u001b[0m\u001b[0;34m,\u001b[0m \u001b[0msigma\u001b[0m\u001b[0;34m)\u001b[0m\u001b[0;34m\u001b[0m\u001b[0;34m\u001b[0m\u001b[0m\n\u001b[1;32m     51\u001b[0m     \u001b[0mV\u001b[0m \u001b[0;34m=\u001b[0m \u001b[0m__simulate_rough_volatility\u001b[0m\u001b[0;34m(\u001b[0m\u001b[0mn\u001b[0m\u001b[0;34m,\u001b[0m \u001b[0mm\u001b[0m\u001b[0;34m,\u001b[0m \u001b[0mT\u001b[0m\u001b[0;34m,\u001b[0m \u001b[0malpha\u001b[0m\u001b[0;34m,\u001b[0m \u001b[0mY\u001b[0m\u001b[0;34m)\u001b[0m\u001b[0;34m\u001b[0m\u001b[0;34m\u001b[0m\u001b[0m\n\u001b[0;32m---> 52\u001b[0;31m     \u001b[0mX\u001b[0m \u001b[0;34m=\u001b[0m \u001b[0m__simulate_log_price\u001b[0m\u001b[0;34m(\u001b[0m\u001b[0mn\u001b[0m\u001b[0;34m,\u001b[0m \u001b[0mm\u001b[0m\u001b[0;34m,\u001b[0m \u001b[0mT\u001b[0m\u001b[0;34m,\u001b[0m \u001b[0mX_0\u001b[0m\u001b[0;34m,\u001b[0m \u001b[0mrho\u001b[0m\u001b[0;34m,\u001b[0m \u001b[0mV\u001b[0m\u001b[0;34m,\u001b[0m \u001b[0mB\u001b[0m\u001b[0;34m)\u001b[0m\u001b[0;34m\u001b[0m\u001b[0;34m\u001b[0m\u001b[0m\n\u001b[0m\u001b[1;32m     53\u001b[0m \u001b[0;34m\u001b[0m\u001b[0m\n\u001b[1;32m     54\u001b[0m     \u001b[0;32mreturn\u001b[0m \u001b[0mX\u001b[0m\u001b[0;34m\u001b[0m\u001b[0;34m\u001b[0m\u001b[0m\n",
      "\u001b[0;32m~/Documents/machine_learning_in_finance/rough-models-calibration-with-DL/src/rough_heston_simulation.py\u001b[0m in \u001b[0;36m__simulate_log_price\u001b[0;34m(n, m, T, X_0, rho, V, B)\u001b[0m\n\u001b[1;32m     89\u001b[0m \u001b[0;32mdef\u001b[0m \u001b[0m__simulate_log_price\u001b[0m\u001b[0;34m(\u001b[0m\u001b[0mn\u001b[0m\u001b[0;34m,\u001b[0m \u001b[0mm\u001b[0m\u001b[0;34m,\u001b[0m \u001b[0mT\u001b[0m\u001b[0;34m,\u001b[0m \u001b[0mX_0\u001b[0m\u001b[0;34m,\u001b[0m \u001b[0mrho\u001b[0m\u001b[0;34m,\u001b[0m \u001b[0mV\u001b[0m\u001b[0;34m,\u001b[0m \u001b[0mB\u001b[0m\u001b[0;34m)\u001b[0m\u001b[0;34m:\u001b[0m\u001b[0;34m\u001b[0m\u001b[0;34m\u001b[0m\u001b[0m\n\u001b[1;32m     90\u001b[0m     \u001b[0;32massert\u001b[0m \u001b[0;32mnot\u001b[0m \u001b[0mnp\u001b[0m\u001b[0;34m.\u001b[0m\u001b[0many\u001b[0m\u001b[0;34m(\u001b[0m\u001b[0mnp\u001b[0m\u001b[0;34m.\u001b[0m\u001b[0misnan\u001b[0m\u001b[0;34m(\u001b[0m\u001b[0mV\u001b[0m\u001b[0;34m)\u001b[0m \u001b[0;34m|\u001b[0m \u001b[0mnp\u001b[0m\u001b[0;34m.\u001b[0m\u001b[0misnan\u001b[0m\u001b[0;34m(\u001b[0m\u001b[0mB\u001b[0m\u001b[0;34m)\u001b[0m\u001b[0;34m)\u001b[0m\u001b[0;34m\u001b[0m\u001b[0;34m\u001b[0m\u001b[0m\n\u001b[0;32m---> 91\u001b[0;31m     \u001b[0;32massert\u001b[0m \u001b[0mnp\u001b[0m\u001b[0;34m.\u001b[0m\u001b[0mnanmin\u001b[0m\u001b[0;34m(\u001b[0m\u001b[0mV\u001b[0m\u001b[0;34m)\u001b[0m \u001b[0;34m>\u001b[0m \u001b[0;36m0\u001b[0m\u001b[0;34m\u001b[0m\u001b[0;34m\u001b[0m\u001b[0m\n\u001b[0m\u001b[1;32m     92\u001b[0m \u001b[0;34m\u001b[0m\u001b[0m\n\u001b[1;32m     93\u001b[0m     \u001b[0mX\u001b[0m \u001b[0;34m=\u001b[0m \u001b[0mnp\u001b[0m\u001b[0;34m.\u001b[0m\u001b[0mzeros\u001b[0m\u001b[0;34m(\u001b[0m\u001b[0;34m(\u001b[0m\u001b[0mn\u001b[0m\u001b[0;34m,\u001b[0m \u001b[0mm\u001b[0m\u001b[0;34m)\u001b[0m\u001b[0;34m)\u001b[0m\u001b[0;34m\u001b[0m\u001b[0;34m\u001b[0m\u001b[0m\n",
      "\u001b[0;31mAssertionError\u001b[0m: "
     ],
     "ename": "AssertionError",
     "evalue": "",
     "output_type": "error"
    }
   ],
   "source": [
    "X = simulate_rough_heston(100, 1)"
   ],
   "metadata": {
    "collapsed": false,
    "pycharm": {
     "name": "#%%\n",
     "is_executing": false
    }
   }
  },
  {
   "cell_type": "code",
   "execution_count": 5,
   "outputs": [
    {
     "data": {
      "text/plain": "array([[1.        ],\n       [0.9631365 ],\n       [0.96195979],\n       [0.96185198],\n       [0.96291596],\n       [       nan],\n       [       nan],\n       [       nan],\n       [       nan],\n       [       nan],\n       [       nan],\n       [       nan],\n       [       nan],\n       [       nan],\n       [       nan],\n       [       nan],\n       [       nan],\n       [       nan],\n       [       nan],\n       [       nan],\n       [       nan],\n       [       nan],\n       [       nan],\n       [       nan],\n       [       nan],\n       [       nan],\n       [       nan],\n       [       nan],\n       [       nan],\n       [       nan],\n       [       nan],\n       [       nan],\n       [       nan],\n       [       nan],\n       [       nan],\n       [       nan],\n       [       nan],\n       [       nan],\n       [       nan],\n       [       nan],\n       [       nan],\n       [       nan],\n       [       nan],\n       [       nan],\n       [       nan],\n       [       nan],\n       [       nan],\n       [       nan],\n       [       nan],\n       [       nan],\n       [       nan],\n       [       nan],\n       [       nan],\n       [       nan],\n       [       nan],\n       [       nan],\n       [       nan],\n       [       nan],\n       [       nan],\n       [       nan],\n       [       nan],\n       [       nan],\n       [       nan],\n       [       nan],\n       [       nan],\n       [       nan],\n       [       nan],\n       [       nan],\n       [       nan],\n       [       nan],\n       [       nan],\n       [       nan],\n       [       nan],\n       [       nan],\n       [       nan],\n       [       nan],\n       [       nan],\n       [       nan],\n       [       nan],\n       [       nan],\n       [       nan],\n       [       nan],\n       [       nan],\n       [       nan],\n       [       nan],\n       [       nan],\n       [       nan],\n       [       nan],\n       [       nan],\n       [       nan],\n       [       nan],\n       [       nan],\n       [       nan],\n       [       nan],\n       [       nan],\n       [       nan],\n       [       nan],\n       [       nan],\n       [       nan],\n       [       nan]])"
     },
     "metadata": {},
     "output_type": "execute_result",
     "execution_count": 5
    }
   ],
   "source": [
    "X"
   ],
   "metadata": {
    "collapsed": false,
    "pycharm": {
     "name": "#%%\n",
     "is_executing": false
    }
   }
  },
  {
   "cell_type": "code",
   "execution_count": 6,
   "outputs": [
    {
     "data": {
      "text/plain": "[<matplotlib.lines.Line2D at 0x7fbf24a9b730>]"
     },
     "metadata": {},
     "output_type": "execute_result",
     "execution_count": 6
    },
    {
     "data": {
      "text/plain": "<Figure size 432x288 with 1 Axes>",
      "image/png": "[encoded data removed]"
     },
     "metadata": {
      "needs_background": "light"
     },
     "output_type": "display_data"
    }
   ],
   "source": [
    "plt.plot(X[:, 0])"
   ],
   "metadata": {
    "collapsed": false,
    "pycharm": {
     "name": "#%%\n",
     "is_executing": false
    }
   }
  },
  {
   "cell_type": "code",
   "execution_count": null,
   "metadata": {
    "pycharm": {
     "is_executing": false
    }
   },
   "outputs": [],
   "source": [
    "# Calendar conventions\n",
    "data_dir = os.getcwd()\n",
    "day_count = ql.Actual365Fixed()\n",
    "calendar = ql.UnitedStates()\n",
    "# Option conventions\n",
    "moneyness = [.8, .85, .9, .95, .975, .99, 1.0, 1.01, 1.025, 1.05, 1.1, 1.15, 1.2] # S_0/K \n",
    "delta_times = [15, 30, 45, 60, 90, 120, 180, 240, 300, 360, 420]\n",
    "\n",
    "he_analytic = {'name' : 'Heston',\n",
    "               'process' : ql.HestonProcess,\n",
    "               'model' : ql.HestonModel, \n",
    "               'engine' : ql.AnalyticHestonEngine,\n",
    "               'option_type' : ql.Option.Call,\n",
    "               'transformation' : np.log, \n",
    "               'inverse_transformation' : np.exp}"
   ]
  },
  {
   "cell_type": "code",
   "execution_count": 10,
   "metadata": {
    "pycharm": {
     "is_executing": false
    }
   },
   "outputs": [
    {
     "traceback": [
      "\u001b[0;31m---------------------------------------------------------------------------\u001b[0m",
      "\u001b[0;31mNameError\u001b[0m                                 Traceback (most recent call last)",
      "\u001b[0;32m<ipython-input-10-0e0f3cc67378>\u001b[0m in \u001b[0;36m<module>\u001b[0;34m\u001b[0m\n\u001b[1;32m     28\u001b[0m     \u001b[0;32mreturn\u001b[0m \u001b[0mdt\u001b[0m\u001b[0;34m.\u001b[0m\u001b[0mdatetime\u001b[0m\u001b[0;34m(\u001b[0m\u001b[0mdateql\u001b[0m\u001b[0;34m.\u001b[0m\u001b[0myear\u001b[0m\u001b[0;34m(\u001b[0m\u001b[0;34m)\u001b[0m\u001b[0;34m,\u001b[0m \u001b[0mdateql\u001b[0m\u001b[0;34m.\u001b[0m\u001b[0mmonth\u001b[0m\u001b[0;34m(\u001b[0m\u001b[0;34m)\u001b[0m\u001b[0;34m,\u001b[0m \u001b[0mdateql\u001b[0m\u001b[0;34m.\u001b[0m\u001b[0mdayOfMonth\u001b[0m\u001b[0;34m(\u001b[0m\u001b[0;34m)\u001b[0m\u001b[0;34m)\u001b[0m\u001b[0;34m\u001b[0m\u001b[0;34m\u001b[0m\u001b[0m\n\u001b[1;32m     29\u001b[0m \u001b[0;34m\u001b[0m\u001b[0m\n\u001b[0;32m---> 30\u001b[0;31m \u001b[0;32mdef\u001b[0m \u001b[0msave_dictionary\u001b[0m\u001b[0;34m(\u001b[0m\u001b[0mdictionary\u001b[0m\u001b[0;34m,\u001b[0m \u001b[0mname_dict\u001b[0m\u001b[0;34m,\u001b[0m \u001b[0mpath\u001b[0m\u001b[0;34m=\u001b[0m\u001b[0mdata_dir\u001b[0m\u001b[0;34m)\u001b[0m\u001b[0;34m:\u001b[0m\u001b[0;34m\u001b[0m\u001b[0;34m\u001b[0m\u001b[0m\n\u001b[0m\u001b[1;32m     31\u001b[0m         \u001b[0mfilehandler\u001b[0m \u001b[0;34m=\u001b[0m \u001b[0mopen\u001b[0m\u001b[0;34m(\u001b[0m\u001b[0mpath\u001b[0m\u001b[0;34m+\u001b[0m \u001b[0;34m'/'\u001b[0m \u001b[0;34m+\u001b[0m\u001b[0mname_dict\u001b[0m\u001b[0;34m+\u001b[0m\u001b[0;34m'.pkl'\u001b[0m\u001b[0;34m,\u001b[0m\u001b[0;34m'wb'\u001b[0m\u001b[0;34m)\u001b[0m\u001b[0;34m\u001b[0m\u001b[0;34m\u001b[0m\u001b[0m\n\u001b[1;32m     32\u001b[0m         \u001b[0mpickle\u001b[0m\u001b[0;34m.\u001b[0m\u001b[0mdump\u001b[0m\u001b[0;34m(\u001b[0m\u001b[0mdictionary\u001b[0m\u001b[0;34m,\u001b[0m\u001b[0mfilehandler\u001b[0m\u001b[0;34m)\u001b[0m\u001b[0;34m\u001b[0m\u001b[0;34m\u001b[0m\u001b[0m\n",
      "\u001b[0;31mNameError\u001b[0m: name 'data_dir' is not defined"
     ],
     "ename": "NameError",
     "evalue": "name 'data_dir' is not defined",
     "output_type": "error"
    }
   ],
   "source": [
    "def create_european_option(calculation_date, opt_type, strike_price, ttm):\n",
    "# Create European options\n",
    "    payoff = ql.PlainVanillaPayoff(opt_type, strike_price)\n",
    "    maturity = calculation_date+int(ttm)\n",
    "    exercise = ql.EuropeanExercise(maturity)\n",
    "    return ql.VanillaOption(payoff, exercise)\n",
    "\n",
    "def create_imp_vol_skeleton(strike_struct, expiration_dates_struct, \n",
    "                            calculation_date, spot_price):\n",
    "    '''\n",
    "    Create the structure (skeleton) on which it is possible to price all options.\n",
    "    '''\n",
    "    strikes = [spot_price/m for m in strike_struct]\n",
    "    expiries = [calculation_date+d_time for d_time in expiration_dates_struct]\n",
    "    ttm_days = [(d-calculation_date) for d in expiries] # time to maturity\n",
    "    ttm_year = [day_count.yearFraction(calculation_date, d) for d in expiries]\n",
    "\n",
    "    new_array = np.array((ttm_days,strikes))\n",
    "    cartesian_product_vola_surface = list(product(*new_array))\n",
    "    df = pd.DataFrame(cartesian_product_vola_surface, \n",
    "                        columns=['ttm','strikes'])\n",
    "    return strikes, np.array((ttm_year)), expiries, df\n",
    "\n",
    "def datetime_to_ql(d):\n",
    "    return ql.Date(d.day,d.month,d.year)\n",
    "\n",
    "def ql_to_datetime(dateql):\n",
    "    return dt.datetime(dateql.year(), dateql.month(), dateql.dayOfMonth())\n",
    "            \n",
    "def save_dictionary(dictionary, name_dict, path=data_dir):\n",
    "        filehandler = open(path+ '/' +name_dict+'.pkl','wb')\n",
    "        pickle.dump(dictionary,filehandler)\n",
    "        filehandler.close()\n",
    "\n",
    "def load_dictionary(name_dict, path=data_dir):\n",
    "        with open(path+ '/' +name_dict+'.pkl', 'rb') as handle:\n",
    "            dictionary = pickle.load(handle)\n",
    "        return dictionary\n",
    "\n",
    "def plt_surf(Z, z_label='ivs', main_title='Heston Imp Vola Surface', string1='', string2='',string3='',W=None):\n",
    "    \n",
    "    X, Y = np.meshgrid( moneyness, delta_times )\n",
    "    Z = Z.reshape(len(X),len(X[0]))\n",
    "    fig = plt.figure()\n",
    "    if W is None:\n",
    "        ax = fig.add_subplot(1, 1, 1, projection='3d', xlabel='time to maturity in days', ylabel='moneyness', zlabel=z_label)\n",
    "        ax.text2D(0.06, 0.98, string1, transform=ax.transAxes)\n",
    "        ax.text2D(0.06, 0.94, string2, transform=ax.transAxes)\n",
    "        surf=ax.plot_surface(Y, X, Z, cmap=cm.coolwarm, linewidth=0, antialiased=True)\n",
    "        fig.colorbar(surf, shrink=0.6, aspect=20,ax=ax)\n",
    "    else:\n",
    "        W = W.reshape(len(X),len(X[0]))\n",
    "        fig.set_figheight(8); fig.set_figwidth(16)\n",
    "        ax1 = fig.add_subplot(1, 2, 1, projection='3d', xlabel='time to maturity in days', ylabel='moneyness', zlabel=z_label)\n",
    "        ax1.text2D(0.06, 0.98, string1, transform=ax1.transAxes)\n",
    "        ax1.text2D(0.06, 0.94, string3, transform=ax1.transAxes)\n",
    "        surf1=ax1.plot_surface(Y, X, Z, cmap=cm.coolwarm, linewidth=0, antialiased=True)\n",
    "        fig.colorbar(surf1, shrink=0.6, aspect=20)\n",
    "        \n",
    "        ax2 = fig.add_subplot(1, 2, 2, projection='3d', xlabel='time to maturity in days', ylabel='moneyness', zlabel=z_label)\n",
    "        ax2.text2D(0.06, 0.98, string1, transform=ax2.transAxes)\n",
    "        ax2.text2D(0.06, 0.94, string2, transform=ax2.transAxes)\n",
    "        surf2=ax2.plot_surface(Y, X, W, cmap=cm.coolwarm, linewidth=0, antialiased=True)\n",
    "        fig.colorbar(surf2, shrink=0.6, aspect=20)\n",
    "                       \n",
    "    fig.suptitle(main_title)\n",
    "    "
   ]
  },
  {
   "cell_type": "code",
   "execution_count": 11,
   "metadata": {
    "pycharm": {
     "is_executing": false
    }
   },
   "outputs": [],
   "source": [
    "'''\n",
    " - Search for the implied volatility - \n",
    "Since the differential evolution algorithm is extremly long, I have to use\n",
    "another method to derive the implied volatility for option prices.\n",
    "References are Li and Lee (2011) and Stefanica and Radoicic (2017).\n",
    "'''\n",
    "\n",
    "def approx_func(x):\n",
    "    return 0.5 + 0.5*np.sign(x)*np.sqrt(1. - np.exp(-2.*(x**2)/np.pi))\n",
    "\n",
    "def guess_StefanicaRadoicic(option_type, strike, option_price, spot_price,\n",
    "                            ir_discount, dr_discount):\n",
    "    \n",
    "    forward = spot_price * dr_discount / ir_discount\n",
    "    ey = forward/strike #ey=exp(y)\n",
    "    emy = strike/forward #emy=exp(-y)\n",
    "    y = np.log(ey)\n",
    "    alpha = option_price/(strike*ir_discount)\n",
    "    \n",
    "    if option_type==1:\n",
    "        #Call\n",
    "        R = 2.*alpha - ey + 1.\n",
    "    else:\n",
    "        #Put\n",
    "        R = 2.*alpha + ey - 1.\n",
    "    pi_term = 2./np.pi\n",
    "    arg_exp_term = (1.-pi_term)*y\n",
    "    R2 = R**2\n",
    "    \n",
    "    a = np.exp(arg_exp_term)\n",
    "    A = (a - 1./a)**2\n",
    "    b = np.exp(pi_term*y)\n",
    "    B = 4.*(b + 1./b) - 2.*emy*(a + 1./a)*(ey**2 + 1. - R2)\n",
    "    C = (emy**2) * (R2 - (ey - 1.)**2) * ((ey + 1.)**2 - R2)\n",
    "    beta = 2.*C / (B + np.sqrt(B**2 + 4.*A*C))\n",
    "    gamma = - np.pi/2.*np.log(beta)\n",
    "    \n",
    "    if y>=0.:\n",
    "        if option_type==1: #call\n",
    "            O0 = strike*ir_discount*(ey*approx_func(np.sqrt(2.*y)) - 0.5)\n",
    "        else:\n",
    "            O0 = strike*ir_discount*(0.5 - ey*approx_func(-np.sqrt(2.*y)))\n",
    "        if option_price <= O0:\n",
    "            nu = np.sqrt(gamma+y) - np.sqrt(gamma-y)\n",
    "        else:\n",
    "            nu = np.sqrt(gamma+y) + np.sqrt(gamma-y)\n",
    "    else:\n",
    "        if option_type==1: #call\n",
    "            O0 = strike*ir_discount*(0.5*ey - approx_func(-np.sqrt(-2.*y)))\n",
    "        else:\n",
    "            O0 = strike*ir_discount*(approx_func(np.sqrt(-2.*y)) - 0.5*ey)\n",
    "        if option_price <= O0:\n",
    "            nu = np.sqrt(gamma-y) - np.sqrt(gamma+y)\n",
    "        else:\n",
    "            nu = np.sqrt(gamma+y) + np.sqrt(gamma-y)\n",
    "    return nu\n",
    "\n",
    "def Phi(x,nu):\n",
    "    nu2 = nu**2\n",
    "    abs_term = 2.*np.abs(x)\n",
    "    return (nu2-abs_term)/(nu2+abs_term)\n",
    "def N_plus(x,nu):\n",
    "    return norm.cdf(x/nu + 0.5*nu)\n",
    "def N_minus(x,nu):\n",
    "    return np.exp(-x)*norm.cdf(x/nu - 0.5*nu)\n",
    "def F(nu, x, c_star, omega):\n",
    "    return c_star + N_minus(x,nu) + omega*N_plus(x,nu)\n",
    "def G(nu, x, c_star, omega):\n",
    "    argument = F(nu, x, c_star, omega)/(1.+omega)\n",
    "    term = norm.ppf(argument)\n",
    "    return term + np.sqrt(term**2 + 2.*np.abs(x))\n",
    "    \n",
    "def SOR_TS(option_type, strike, discount_ir, discount_dr, option_price, \n",
    "                     spot_price, guess, omega, accuracy, max_iterations=20):\n",
    "    \n",
    "    assert (option_price >= 0.),'Price must be positive.'\n",
    "    \n",
    "    forward = spot_price * discount_dr / discount_ir\n",
    "    x = np.log(forward/strike)\n",
    "    \n",
    "    if option_type==1:  #call\n",
    "        c = option_price/(spot_price*discount_dr)\n",
    "    else:   #put\n",
    "        c = option_price/(spot_price*discount_dr) + 1. - strike/forward\n",
    "    \n",
    "    if x > 0.:\n",
    "        # formula in-out duality\n",
    "        c = c*forward/strike + 1. - forward/strike\n",
    "        assert (c >= 0.),'Normalized price must be positive.'\n",
    "        x = -x\n",
    "    \n",
    "    if not guess:\n",
    "        guess = guess_StefanicaRadoicic(option_type, strike, option_price, \n",
    "                                       spot_price, discount_ir, discount_dr)\n",
    "    assert (guess >= 0.),'Initial guess must be positive.'\n",
    "    \n",
    "    nIter = 0\n",
    "    nu_k = nu_kp1 = guess\n",
    "    difference = 1.\n",
    "    while (np.abs(difference)>accuracy and nIter<max_iterations):\n",
    "        nu_k = nu_kp1\n",
    "        alpha_k = (1.+omega)/(1.+Phi(x,nu_k))\n",
    "        nu_kp1 = alpha_k*G(nu_k, x, c, omega) + (1.-alpha_k)*nu_k\n",
    "        difference = nu_kp1 - nu_k\n",
    "        nIter +=1\n",
    "    return nu_kp1"
   ]
  },
  {
   "cell_type": "code",
   "execution_count": 12,
   "outputs": [
    {
     "traceback": [
      "\u001b[0;36m  File \u001b[0;32m\"<ipython-input-12-cbcafcdded71>\"\u001b[0;36m, line \u001b[0;32m1\u001b[0m\n\u001b[0;31m    The simple Heston model is:\u001b[0m\n\u001b[0m        ^\u001b[0m\n\u001b[0;31mSyntaxError\u001b[0m\u001b[0;31m:\u001b[0m invalid syntax\n"
     ],
     "ename": "SyntaxError",
     "evalue": "invalid syntax (<ipython-input-12-cbcafcdded71>, line 1)",
     "output_type": "error"
    }
   ],
   "source": [
    "The simple Heston model is:"
   ],
   "metadata": {
    "collapsed": false,
    "pycharm": {
     "name": "#%%\n",
     "is_executing": false
    }
   }
  },
  {
   "cell_type": "code",
   "execution_count": null,
   "metadata": {
    "scrolled": false,
    "pycharm": {
     "is_executing": false
    }
   },
   "outputs": [],
   "source": [
    "class Heston:\n",
    "    def __init__(self, model_dict=he_analytic, create_new=True, spot_price=100., risk_free_rate=0.01, \n",
    "                 dividend_rate=0.0, inst_var=0.1,calculation_date=ql.Date(8,11,2015), \n",
    "                 expiration_dates_struct=delta_times, strike_struct=moneyness,\n",
    "                 mean_rev_speed=None, eq_var=None, vol_of_vol=None, correlation=None):\n",
    "        '''\n",
    "        This class implements the Heston model for a series of given parameters.\n",
    "        The output will be a dataframe where the columns are parameters, strikes\n",
    "        time_to_maturities, prices and values of the volatility surface.\n",
    "        '''       \n",
    "        \n",
    "        if create_new==True:\n",
    "            self.create_model( date=calculation_date )\n",
    "         \n",
    "        else:\n",
    "            self._model_dict = model_dict      \n",
    "            self.option_type = self._model_dict['option_type']\n",
    "            self.calculation_date = calculation_date\n",
    "            ql.Settings.instance().evaluationDate = self.calculation_date\n",
    "\n",
    "            # Tolerance on implied volatility error\n",
    "            self.tol = 1.e-14\n",
    "\n",
    "            #heston model parameters\n",
    "            self.sigma = vol_of_vol\n",
    "            self.rho = correlation\n",
    "            self.theta = eq_var\n",
    "            self.kappa = mean_rev_speed\n",
    "            self.params={'kappa':self.kappa,'theta':self.theta, 'sigma': self.sigma,'rho': self.rho}\n",
    "\n",
    "\n",
    "            # volatility surface structure\n",
    "            self.strikes, self.ttm, self.expiries, self.df = create_imp_vol_skeleton(strike_struct,\n",
    "                                        expiration_dates_struct, calculation_date, spot_price)\n",
    "\n",
    "            # Yield curve, dividends, spot and instantaneous volatility\n",
    "            self.risk_free_rate = risk_free_rate\n",
    "            self.dividend_rate = dividend_rate\n",
    "            self.spot_price = spot_price\n",
    "            self.v0 = inst_var\n",
    "            self.obs={'S0':self.spot_price, 'ir':self.risk_free_rate, 'dr':self.dividend_rate, 'v0':self.v0}\n",
    "\n",
    "            self.ircurve = ql.YieldTermStructureHandle(ql.FlatForward(self.calculation_date,self.risk_free_rate,day_count))\n",
    "            self.dividend = ql.YieldTermStructureHandle(ql.FlatForward(self.calculation_date, self.dividend_rate,day_count))\n",
    "            self.spot = ql.QuoteHandle(ql.SimpleQuote(self.spot_price))\n",
    "\n",
    "            self.process = self._model_dict['process'](self.ircurve,self.dividend,self.spot, self.v0,self.kappa,self.theta,self.sigma,self.rho)\n",
    "            self.model = self._model_dict['model'](self.process)\n",
    "            self.engine = self._model_dict['engine'](self.model)\n",
    "\n",
    "            eu_options = [ create_european_option(self.calculation_date,self.option_type,s,t) \n",
    "                                           for s,t in zip(self.df['strikes'], self.df['ttm']) ] \n",
    "            [opt.setPricingEngine(self.engine) for opt in eu_options]\n",
    "            self.df['price'] = [o.NPV() for o in eu_options]\n",
    "\n",
    "            self.ivs=self.get_implied_vola()\n",
    "                \n",
    "\n",
    "    # Methods for the generation of the fake volatility surfaces\n",
    "    def __generate_ir(self):\n",
    "        return np.clip(np.random.beta(a=1.01, b=60), 0.001, 0.08)\n",
    "    def __generate_dr(self):\n",
    "        return np.clip(np.random.beta(a=1.01, b=60), 0.001, 0.03)\n",
    "    def __generate_sp(self):\n",
    "        return 100*(np.random.beta(a=8, b=8) + 1.0E-2)\n",
    "    def __generate_theta(self):\n",
    "        return np.random.uniform(low=0.05, high=0.8)\n",
    "    def __generate_v0(self):\n",
    "        return np.random.uniform(low=0.001, high=0.9)**2\n",
    "    def __generate_rho(self):\n",
    "        return np.random.uniform(low= -0.99, high= 0.99)\n",
    "    def __generate_kappa(self):\n",
    "        return np.random.uniform(low=0.5, high=10.)\n",
    "    def __generate_sigma(self):\n",
    "        return np.random.uniform(low=0.05, high=0.8)\n",
    "\n",
    "\n",
    "    def create_model(self, date, create_new=False, **kwargs):\n",
    "        '''\n",
    "        Use fake (random) datas to create the data structure for the Heston model\n",
    "        and the volatility surface.\n",
    "        '''\n",
    "        ir = kwargs.get('ir', self.__generate_ir())\n",
    "        dr = kwargs.get('dr', self.__generate_dr())\n",
    "        sp = kwargs.get('sp', self.__generate_sp())\n",
    "        v0 = kwargs.get('v0', self.__generate_v0())\n",
    "        rho = kwargs.get('rho', self.__generate_rho())\n",
    "        sigma = kwargs.get('sigma', self.__generate_sigma()) #vol of vol! Not implied vola!\n",
    "        # Loop until the Feller condition is satisfied\n",
    "        theta = kwargs.get('theta', self.__generate_theta())\n",
    "        kappa = kwargs.get('kappa', self.__generate_kappa())\n",
    "        while 2*kappa*theta <= sigma**2:\n",
    "            theta = self.__generate_theta()\n",
    "            kappa = self.__generate_kappa()\n",
    "\n",
    "        self.__init__(model_dict=he_analytic, create_new=create_new, spot_price=sp, risk_free_rate=ir,\n",
    "                            dividend_rate=dr, calculation_date=date, \n",
    "                            expiration_dates_struct=delta_times, \n",
    "                            strike_struct=moneyness, mean_rev_speed=kappa,\n",
    "                            eq_var=theta, vol_of_vol=sigma, correlation=rho,\n",
    "                            inst_var=v0)\n",
    "\n",
    "    def show_ivs(self):\n",
    "        '''\n",
    "        Plot implied volatility surface\n",
    "        '''\n",
    "        obs_str = ['S0 =', 'ir =', 'dr =', 'v0 =']\n",
    "        obs = [self.spot_price, self.risk_free_rate, self.dividend_rate, self.v0]\n",
    "        obs_str = [\"{}{:.6}\".format(o, str(v)) for o,v in zip(obs_str, obs)]\n",
    "        params_str = [r'$\\kappa = $', r'$\\theta = $', r'$\\sigma = $', r'$\\rho = $']\n",
    "        params = [self.kappa, self.theta, self.sigma, self.rho]\n",
    "        params_str = [\"{}{:.5}\".format(o, str(v)) for o,v in zip(params_str, params)]\n",
    "        plt_surf( Z=np.array(self.ivs), z_label='ivs', \n",
    "                     main_title='Heston Imp Vola Surface',\n",
    "                     string1=', '.join(o for o in obs_str), \n",
    "                     string2=', '.join(p for p in params_str) )\n",
    "        \n",
    "    def get_implied_vola(self):\n",
    "        ivs = []\n",
    "        for i in range(len(self.df['price'])):\n",
    "            # Find the implied volatility through other algorithms\n",
    "            #https://en.wikipedia.org/wiki/Discounting#Discount_factor\n",
    "            sol = 0.0\n",
    "            discount_ir = self.ircurve.discount(self.calculation_date+int(self.df['ttm'][i]))\n",
    "            discount_dr = self.dividend.discount(self.calculation_date+int(self.df['ttm'][i]))\n",
    "            try:\n",
    "                sol = SOR_TS(self.option_type, self.df['strikes'][i], discount_ir, discount_dr, \n",
    "                             self.df['price'][i], self.spot.value(), guess=None, \n",
    "                             omega=1., accuracy=self.tol)\n",
    "            except Exception as error:\n",
    "                print('Caught this error: ' + repr(error))\n",
    "            yearly_ttm = day_count.yearFraction(self.calculation_date, self.calculation_date+int(self.df['ttm'][i]))\n",
    "            sol = sol/np.sqrt(yearly_ttm)\n",
    "            ivs.append(sol)\n",
    "            if ivs[i]==0.:\n",
    "                raise ValueError('Zero implied volatility!')\n",
    "        return ivs\n",
    "    \n",
    "    def create_historical_data(self,first_date,end_date,save=True,**kwargs):\n",
    "        '''\n",
    "        for every date between first_date and end_date create heston with random params and corresponding impvols\n",
    "        '''\n",
    "        #### Dates\n",
    "        self.dates = pd.date_range(ql_to_datetime(first_date), ql_to_datetime(end_date))\n",
    "        self.dates_ql = [datetime_to_ql(d) for d in self.dates]\n",
    "        \n",
    "        # Set seed\n",
    "        seed = kwargs.get('seed',0)\n",
    "        print('Seed: %s'%seed)\n",
    "        np.random.seed(seed)\n",
    "        \n",
    "        # Dictionaries\n",
    "        observables = {} #contains s0, ir, dr and v0\n",
    "        hist_parameters = {} #contains heston params\n",
    "        hist_df = {} #contains the entire data_frame with ttm, strikes, prices\n",
    "        hist_iv = {} #contains the implied vola surface given by the data_frame\n",
    "        k = 0\n",
    "        while k<len(self.dates_ql):\n",
    "            self.calculation_date = self.dates_ql[k]\n",
    "            self.create_model(self.calculation_date) ; date= ql_to_datetime(self.calculation_date);\n",
    "            try:\n",
    "                hist_iv[date] = self.ivs\n",
    "            except (ValueError) as e:\n",
    "                print(e)\n",
    "            else:\n",
    "                observables[date] = np.array( (self.spot_price, self.risk_free_rate, self.dividend_rate, self.v0) )\n",
    "                hist_parameters[date] = np.array( (self.kappa, self.theta, self.sigma, self.rho) )                                           \n",
    "                hist_df[date] = self.df #ttm, strikes,ttm,prices\n",
    "                print('Date: ', date); print('Params: ', hist_parameters[date] )\n",
    "                k += 1\n",
    "        if  save == True:\n",
    "            print('Saving historical data')  \n",
    "            save_dictionary(dictionary=observables, name_dict='observables' )\n",
    "            save_dictionary(dictionary=hist_parameters, name_dict='hist_parameters' )\n",
    "            save_dictionary(dictionary=hist_df, name_dict='hist_df' )\n",
    "            save_dictionary(dictionary=hist_iv, name_dict='hist_iv')\n",
    "            \n",
    "            \n",
    "    def create_training_data(self, nb_samples, save=True, **kwargs):\n",
    "        '''\n",
    "        for a certain date create heston model with random params and calculate impvols\n",
    "        '''\n",
    "        # Set seed\n",
    "        seed = kwargs.get('seed',0)\n",
    "        np.random.seed(seed)\n",
    "        print('NN-training data are produced')\n",
    "        \n",
    "        x = []\n",
    "        y = []\n",
    "        ql.Settings.instance().evaluationDate = self.calculation_date\n",
    "        i = 0; err_no=0\n",
    "        while i<nb_samples:\n",
    "            try:\n",
    "                self.create_model(date= ql.Settings.instance().evaluationDate)\n",
    "            except (ValueError) as e:\n",
    "                err_no+=1\n",
    "                print(e,'@sample %s' %(i+1))\n",
    "                print('Tot. no. of Errors: %s' %err_no)\n",
    "            else:\n",
    "                x.append([self.spot_price, self.risk_free_rate, self.dividend_rate,self.v0,\n",
    "                                                                self.kappa,self.theta,self.sigma,self.rho])\n",
    "                y.append(self.ivs)\n",
    "                i += 1\n",
    "        if  save == True:\n",
    "            print('Saving data for training of NN as heston_train_inputNN and heston_train_outputNN')\n",
    "            np.save(data_dir+'/'+'heston_train_inputNN', x)\n",
    "            np.save(data_dir+'/'+'heston_train_outputNN', y)\n",
    "        return (x,y)"
   ]
  },
  {
   "cell_type": "code",
   "execution_count": null,
   "metadata": {
    "pycharm": {
     "is_executing": false
    }
   },
   "outputs": [],
   "source": [
    "# %%time\n",
    "h=Heston()\n",
    "# h.create_training_data(100000,seed=1); #takes ca. 1h for n=20000. t ~ O(n)"
   ]
  },
  {
   "cell_type": "code",
   "execution_count": null,
   "metadata": {
    "pycharm": {
     "is_executing": false
    }
   },
   "outputs": [],
   "source": [
    "import tensorflow as tf\n",
    "from tensorflow.keras import backend as K\n",
    "from tensorflow.keras.models import Sequential, Model, model_from_json\n",
    "from tensorflow.keras.layers import Dense, Dropout, Activation, BatchNormalization, Input, ELU, add\n",
    "from tensorflow.keras.optimizers import RMSprop, Adagrad, Adadelta, Adam, Adamax, Nadam\n",
    "from tensorflow.keras.callbacks import EarlyStopping, ModelCheckpoint, ReduceLROnPlateau, Callback, TensorBoard\n",
    "from tensorflow.keras.constraints import MaxNorm\n",
    "from tensorflow.keras.initializers import VarianceScaling, RandomUniform\n",
    "from tensorflow.keras.utils import plot_model\n",
    "from copy import deepcopy, copy"
   ]
  },
  {
   "cell_type": "code",
   "execution_count": null,
   "metadata": {
    "pycharm": {
     "is_executing": false
    }
   },
   "outputs": [],
   "source": [
    "import sklearn as sk\n",
    "from sklearn.model_selection import train_test_split\n",
    "\n",
    "params=np.load('heston_train_inputNN.npy')\n",
    "iv=np.load('heston_train_outputNN.npy')\n",
    "\n",
    "params_train, params_valid, iv_train, iv_valid=sk.model_selection.train_test_split(params,iv, train_size=0.8, random_state=1)\n",
    "params_valid, params_test, iv_valid, iv_test=sk.model_selection.train_test_split(params_valid,iv_valid, train_size=0.5, random_state=1)"
   ]
  },
  {
   "cell_type": "code",
   "execution_count": null,
   "metadata": {
    "pycharm": {
     "is_executing": false
    }
   },
   "outputs": [],
   "source": [
    "# def generate_nn(nb_unit=int(2**8), layers=10, activation=ELU(1.0), optimizer=Nadam(learning_rate=5e-4,clipnorm=1.)):\n",
    "#     init= tf.keras.initializers.GlorotUniform(seed=1)\n",
    "#     ## Input of model\n",
    "#     input = Input(shape=(8,))\n",
    "#     # First layer\n",
    "#     x = Dense(nb_unit, kernel_initializer=init,kernel_constraint=MaxNorm(5, axis=0),use_bias=False)(input)\n",
    "#     x = BatchNormalization()(x)\n",
    "#     x = activation(x)\n",
    "#     x = Dropout(0)(x)\n",
    "\n",
    "#     # Middle layers\n",
    "#     for i in range(layers-1):\n",
    "#         x = Dense(nb_unit, kernel_initializer=init, kernel_constraint=MaxNorm(5, axis=0), use_bias=False)(x)\n",
    "#         x = BatchNormalization()(x)\n",
    "#         x = activation(x)\n",
    "#         x = Dropout(0)(x)\n",
    "#         x = activation(x)\n",
    "\n",
    "#     # Last layer\n",
    "#     x = Dense(143, kernel_initializer=init, kernel_constraint=MaxNorm(5, axis=0), use_bias=False)(x)\n",
    "#     x = BatchNormalization()(x)\n",
    "#     x = Activation('linear')(x)\n",
    "#     x = Dropout(0)(x)\n",
    "\n",
    "#     ## Put together input and output\n",
    "#     nn = Model(inputs=input, outputs=x)\n",
    "\n",
    "#     # Compile\n",
    "#     nn.compile(optimizer, loss='mse')\n",
    "    \n",
    "#     return nn"
   ]
  },
  {
   "cell_type": "code",
   "execution_count": null,
   "metadata": {
    "pycharm": {
     "is_executing": false
    }
   },
   "outputs": [],
   "source": [
    "# reduceLR = ReduceLROnPlateau(monitor='val_loss', factor=0.2, patience=60, min_lr=9e-10, verbose=1)\n",
    "# earlyStopping = EarlyStopping(monitor='val_loss', patience=200)\n",
    "# nn=generate_nn(layers=12)\n",
    "# nn.fit( params_train, iv_train, batch_size=1024, epochs=350, verbose=2, callbacks=[reduceLR,earlyStopping],\n",
    "#                           validation_data=(params_valid, iv_valid) )"
   ]
  },
  {
   "cell_type": "code",
   "execution_count": null,
   "metadata": {
    "pycharm": {
     "is_executing": false
    }
   },
   "outputs": [],
   "source": [
    "# nn.save('model') "
   ]
  },
  {
   "cell_type": "code",
   "execution_count": null,
   "metadata": {
    "pycharm": {
     "is_executing": false
    }
   },
   "outputs": [],
   "source": [
    "nn = tf.keras.models.load_model('model')"
   ]
  },
  {
   "cell_type": "code",
   "execution_count": null,
   "metadata": {
    "pycharm": {
     "is_executing": false
    }
   },
   "outputs": [],
   "source": [
    "h.create_historical_data(first_date=ql.Date(1,1,2017),end_date=ql.Date(5,1,2017),seed=1)"
   ]
  },
  {
   "cell_type": "code",
   "execution_count": null,
   "metadata": {
    "pycharm": {
     "is_executing": false
    }
   },
   "outputs": [],
   "source": [
    "def f_cal(heston, neural_map, l2=False):\n",
    "    def cost_function(params):\n",
    "        params = params.flatten().tolist()\n",
    "        input_params = [heston.spot_price, heston.risk_free_rate, heston.dividend_rate, heston.v0]\n",
    "        input_params.extend(params)\n",
    "        prediction = neural_map.predict( np.array( [input_params] ) )\n",
    "        diff = prediction - heston.ivs #absolute error\n",
    "        if l2:\n",
    "            return np.sum(diff**2)\n",
    "        else:\n",
    "            return np.sum(np.abs(diff))\n",
    "    return cost_function"
   ]
  },
  {
   "cell_type": "code",
   "execution_count": null,
   "metadata": {
    "pycharm": {
     "is_executing": false
    }
   },
   "outputs": [],
   "source": [
    "def illustration_plot(neuralnet, heston):\n",
    "    obs = load_dictionary('observables'); params = load_dictionary('hist_parameters');ivs = load_dictionary('hist_iv')\n",
    "    for date in heston.dates:\n",
    "        test=np.concatenate( [obs[date], params[date] ])\n",
    "        test=np.array([test])\n",
    "        Z_test=neuralnet.predict(test)  \n",
    "        str1='S0= {:.5}, ir= {:.5}, dr= {:.5}, v0= {:.5}'.format(*obs[date])\n",
    "        str2=r\"$\\kappa =$ {:.5} , $\\theta =$ {:.5}, $\\sigma =$ {:.5}, $\\rho =$ {:.5}\".format(*params[date])\n",
    "        plt_surf(Z=Z_test,W=np.array(ivs[date]),string1=str1,string2=str2,string3=str2)"
   ]
  },
  {
   "cell_type": "code",
   "execution_count": null,
   "metadata": {
    "pycharm": {
     "is_executing": false
    }
   },
   "outputs": [],
   "source": [
    "he_calibration_bounds = [(0.001,15.), (0.001,6.), (0.005,4.), (-0.999,0.999)]\n",
    "def calibration_plot(neuralnet, heston):\n",
    "    obs = load_dictionary('observables'); params = load_dictionary('hist_parameters');ivs = load_dictionary('hist_iv')\n",
    "    for date in heston.dates:\n",
    "        heston.create_model(datetime_to_ql(date),sp=obs[date][0],ir=obs[date][1],dr=obs[date][2],v0=obs[date][3],\n",
    "                             kappa=params[date][0], theta=params[date][1],sigma=params[date][2], rho=params[date][3])\n",
    "        sol = differential_evolution(f_cal(heston,neuralnet,True), bounds=he_calibration_bounds, maxiter=100)\n",
    "        test=np.concatenate( [obs[date], sol.x ] )\n",
    "        test=np.array([test])\n",
    "        Z_test=neuralnet.predict(test)  \n",
    "        str1='S0= {:.5}, ir= {:.5}, dr= {:.5}, v0= {:.5}'.format(*obs[date])\n",
    "        str2=r\"$\\kappa =$ {:.5} , $\\theta =$ {:.5}, $\\sigma =$ {:.5}, $\\rho =$ {:.5}\".format(*params[date]) \n",
    "        str3=r\"$\\kappa =$ {:.5} , $\\theta =$ {:.5}, $\\sigma =$ {:.5}, $\\rho =$ {:.5}\".format(*sol.x)\n",
    "        plt_surf(Z=Z_test,W=np.array(ivs[date]),string1=str1,string2=str2,string3=str3)"
   ]
  },
  {
   "cell_type": "code",
   "execution_count": null,
   "metadata": {
    "scrolled": false,
    "pycharm": {
     "is_executing": false
    }
   },
   "outputs": [],
   "source": [
    "illustration_plot(nn,h)"
   ]
  },
  {
   "cell_type": "code",
   "execution_count": null,
   "metadata": {
    "pycharm": {
     "is_executing": false
    }
   },
   "outputs": [],
   "source": [
    "%%time\n",
    "calibration_plot(nn,h)"
   ]
  }
 ],
 "metadata": {
  "colab": {
   "name": "heston calibration with quantlib & scipy.ipynb",
   "provenance": []
  },
  "kernelspec": {
   "display_name": "Python 3",
   "language": "python",
   "name": "python3"
  },
  "language_info": {
   "codemirror_mode": {
    "name": "ipython",
    "version": 3
   },
   "file_extension": ".py",
   "mimetype": "text/x-python",
   "name": "python",
   "nbconvert_exporter": "python",
   "pygments_lexer": "ipython3",
   "version": "3.8.3"
  },
  "pycharm": {
   "stem_cell": {
    "cell_type": "raw",
    "source": [],
    "metadata": {
     "collapsed": false
    }
   }
  }
 },
 "nbformat": 4,
 "nbformat_minor": 1
}