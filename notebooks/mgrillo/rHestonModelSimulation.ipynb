{
 "cells": [
  {
   "cell_type": "code",
   "execution_count": null,
   "metadata": {},
   "outputs": [],
   "source": [
    "import numpy as np\n",
    "from scipy import signal\n",
    "\n",
    "import math\n",
    "\n",
    "import matplotlib.pyplot as plt\n",
    "from tqdm import tqdm\n",
    "\n",
    "%load_ext autoreload\n",
    "%autoreload 2"
   ]
  },
  {
   "cell_type": "markdown",
   "metadata": {},
   "source": [
    "TODO:\n",
    "- check what happens in g_vector for t = 0\n",
    "- check all code for general mistakes"
   ]
  },
  {
   "cell_type": "markdown",
   "metadata": {},
   "source": [
    "This notebook simulates the rough Heston model as introduced by Guennoun, Jacquier, Roome and Shi in <cite data-cite=\"guennoun2018asymptotic\">Guennoun, Hamza, et al. \"Asymptotic behavior of the fractional Heston model.\" SIAM Journal on Financial Mathematics 9.3 (2018): 1017-1045.</cite>. In particular it generates a rough volatility. "
   ]
  },
  {
   "cell_type": "code",
   "execution_count": null,
   "metadata": {},
   "outputs": [],
   "source": [
    "n = 1000 # Number of timesteps\n",
    "sqrtn = math.sqrt(n) \n",
    "M = 1 # Number of simulations\n",
    "rho = 1 # Correlation between the normal distributions dzeta and eta\n",
    "T = 1 # Total time\n",
    "alpha = -0.25 # Alpha as in G^\\alpha. It has to lie in (-.5, .5) to have any meaning. For negative alphas, you get roughness\n",
    "\n",
    "# Some volatility parameters\n",
    "kappa = 1\n",
    "theta = 10 # \n",
    "vola_0 = 10 # initial value of the non-rough vola\n",
    "eta = 1\n",
    "ksi = 1\n",
    "X_0 = 1 # initial value of X, the log-stock price "
   ]
  },
  {
   "cell_type": "code",
   "execution_count": null,
   "metadata": {},
   "outputs": [],
   "source": [
    "def g(t):\n",
    "    return t**alpha\n",
    "g_vector = np.fromfunction(lambda i: g(T*i/n), shape=(n,), dtype=int)\n",
    "g_vector[0] = 0"
   ]
  },
  {
   "cell_type": "code",
   "execution_count": null,
   "metadata": {},
   "outputs": [],
   "source": [
    "def b(y):\n",
    "    return kappa * (theta-y)\n",
    "def a(y):\n",
    "    return ksi * math.sqrt(y)\n",
    "def Phi(y):\n",
    "    return eta + y"
   ]
  },
  {
   "cell_type": "markdown",
   "metadata": {},
   "source": [
    "The Notebook first simulates the volatility according to\n",
    "$$\n",
    "dV_t = \\kappa(\\theta - V_t)dt + \\xi \\sqrt{V_t}dW_t\n",
    "$$"
   ]
  },
  {
   "cell_type": "code",
   "execution_count": null,
   "metadata": {},
   "outputs": [],
   "source": [
    "vola = np.zeros((n,)) # The discretised non-rough volatility process\n",
    "Delta_vola = np.zeros((n,)) # vola_i - vola_{i-1}"
   ]
  },
  {
   "cell_type": "code",
   "execution_count": null,
   "metadata": {},
   "outputs": [],
   "source": [
    "W = np.random.normal(0.0, 1.0, size=(n,)) # The unscaled brownian motion\n",
    "vola[0] = vola_0\n",
    "for i in range(1, n):\n",
    "    vola[i] = vola[i-1] + (T/n)*b(vola[i-1]) + (T/sqrtn)*a(vola[i-1])*W[i-1]\n",
    "    Delta_vola[i] = vola[i] - vola[i - 1]"
   ]
  },
  {
   "cell_type": "markdown",
   "metadata": {},
   "source": [
    "Using Fast Fourier Transform (FFT), the volatility is made rough. For more details, see <cite data-cite=\"horvath2017functional\">Horvath, Blanka, Antoine Jack Jacquier, and Aitor Muguruza. \"Functional central limit theorems for rough volatility.\" Available at SSRN 3078743 (2017)</cite>"
   ]
  },
  {
   "cell_type": "code",
   "execution_count": null,
   "metadata": {},
   "outputs": [],
   "source": [
    "# For some unknown reason, this doesn't work, but a valid solution was found\n",
    "# fourier_transformed_G_alpha = np.fft.fft(g_vector)*np.fft.fft(Delta_Y) \n",
    "# G_alpha_Y = np.fft.ifft(fourier_transformed_G_alpha) # This is supposed to the the rough volatility "
   ]
  },
  {
   "cell_type": "code",
   "execution_count": null,
   "metadata": {},
   "outputs": [],
   "source": [
    "# To compare it with the theoretical value\n",
    "# G_a_Y = np.zeros((n,))\n",
    "# for i in range(n):\n",
    "#     for k in range(1, i+1):\n",
    "#         G_a_Y[i] += g_vector[i-k + 1] * Delta_Y[k] \n",
    "# G_a_Y"
   ]
  },
  {
   "cell_type": "code",
   "execution_count": null,
   "metadata": {},
   "outputs": [],
   "source": [
    "rough_vola = signal.fftconvolve(g_vector, Delta_vola, 'same')"
   ]
  },
  {
   "cell_type": "markdown",
   "metadata": {},
   "source": [
    "<!--bibtex\n",
    "\n",
    "@article{guennoun2018asymptotic,\n",
    "  title={Asymptotic behavior of the fractional Heston model},\n",
    "  author={Guennoun, Hamza and Jacquier, Antoine and Roome, Patrick and Shi, Fangwei},\n",
    "  journal={SIAM Journal on Financial Mathematics},\n",
    "  volume={9},\n",
    "  number={3},\n",
    "  pages={1017--1045},\n",
    "  year={2018},\n",
    "  publisher={SIAM}\n",
    "}\n",
    "\n",
    "@article{horvath2017functional,\n",
    "  title={Functional central limit theorems for rough volatility},\n",
    "  author={Horvath, Blanka and Jacquier, Antoine Jack and Muguruza, Aitor},\n",
    "  journal={Available at SSRN 3078743},\n",
    "  year={2017}\n",
    "}\n",
    "\n",
    "-->"
   ]
  },
  {
   "cell_type": "markdown",
   "metadata": {},
   "source": [
    "Using this rough volatility, a standard simulation is run on the log prices, based on the equation\n",
    "\n",
    "$$\n",
    "dX_t = -\\frac{1}{2}V_tdt + \\sqrt{V_t} dB_t\n",
    "$$"
   ]
  },
  {
   "cell_type": "code",
   "execution_count": null,
   "metadata": {},
   "outputs": [],
   "source": [
    "X = np.zeros((M, n))\n",
    "for j in range(M):\n",
    "    # Create correlated Brownian motion\n",
    "    randoms = np.random.normal(0.0, 1.0, size=(n,))\n",
    "    B = rho*W + math.sqrt(1 - rho**2) * randoms\n",
    "    X[j, 0] = X_0\n",
    "    for i in range(1, n):\n",
    "        X[j, i] = X[j, i-1] - (1/2)*(T/n)*Phi(rough_vola[i-1]) + math.sqrt((T/n) * Phi(rough_vola[i-1])) * B[i-1]"
   ]
  },
  {
   "cell_type": "code",
   "execution_count": null,
   "metadata": {},
   "outputs": [],
   "source": [
    "# A function which gives the brownian motion used to generate the rough volatility and the volatility.\n",
    "def rough_volatility():\n",
    "    vola = np.zeros((n,))\n",
    "    Delta_vola = np.zeros((n,))\n",
    "    W = np.random.normal(0.0, 1.0, size=(n,))\n",
    "    g_vector = np.fromfunction(lambda i: g(T*i/n), shape=(n,), dtype=int)\n",
    "    vola[0] = vola_0\n",
    "    for i in range(1, n):\n",
    "        vola[i] = vola[i-1] + (T/n)*b(vola[i-1]) + (T/sqrtn)*a(vola[i-1])*W[i-1]\n",
    "        Delta_vola[i] = vola[i] - vola[i - 1]\n",
    "    rough_vola = signal.fftconvolve(g_vector, Delta_vola, 'same')\n",
    "    return (W, G_alpha_Y)"
   ]
  },
  {
   "cell_type": "code",
   "execution_count": null,
   "metadata": {},
   "outputs": [],
   "source": [
    "print(X)"
   ]
  },
  {
   "cell_type": "code",
   "execution_count": null,
   "metadata": {},
   "outputs": [],
   "source": [
    "plt.plot(rough_vola)"
   ]
  },
  {
   "cell_type": "code",
   "execution_count": null,
   "metadata": {},
   "outputs": [],
   "source": []
  }
 ],
 "metadata": {
  "kernelspec": {
   "display_name": "Python 3",
   "language": "python",
   "name": "python3"
  },
  "language_info": {
   "codemirror_mode": {
    "name": "ipython",
    "version": 3
   },
   "file_extension": ".py",
   "mimetype": "text/x-python",
   "name": "python",
   "nbconvert_exporter": "python",
   "pygments_lexer": "ipython3",
   "version": "3.7.7"
  }
 },
 "nbformat": 4,
 "nbformat_minor": 4
}
