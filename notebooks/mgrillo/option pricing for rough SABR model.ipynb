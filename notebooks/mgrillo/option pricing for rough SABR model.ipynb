{
 "cells": [
  {
   "cell_type": "markdown",
   "metadata": {},
   "source": [
    "Using monte carlo methods, this model calculates the call and put option prices of an underlying stock following the rough SABR model and created in a different notebook in this github. (the model is in fact the very first box of code in this notebook)"
   ]
  },
  {
   "cell_type": "code",
   "execution_count": 2,
   "metadata": {},
   "outputs": [],
   "source": [
    "import numpy as np\n",
    "import functools\n",
    "\n",
    "from src.rough_simulations import *"
   ]
  },
  {
   "cell_type": "code",
   "execution_count": 3,
   "outputs": [],
   "source": [
    "maturity_times = [1]\n",
    "strike_prices = [1]\n",
    "\n",
    "call_option_prices = np.zeros((len(maturity_times), len(strike_prices)))\n",
    "put_option_prices = np.zeros((len(maturity_times), len(strike_prices)))"
   ],
   "metadata": {
    "collapsed": false,
    "pycharm": {
     "name": "#%%\n"
    }
   }
  },
  {
   "cell_type": "code",
   "execution_count": 4,
   "outputs": [],
   "source": [
    "n = 100 # number of time points in the simulation\n",
    "m = 5 # number of times the model is run. The larger, the more accurate the monte carlo simulation is\n",
    "\n",
    "terminal_time = np.max(maturity_times)\n",
    "log_spot_price = 1\n",
    "inst_vola = 0.1\n",
    "inst_vola_of_vola = 0.1\n",
    "vola_of_vola = 0.01\n",
    "correlation = 0.1\n",
    "local_vola = lambda t, log_price: 1\n",
    "alpha = 0."
   ],
   "metadata": {
    "collapsed": false,
    "pycharm": {
     "name": "#%%\n"
    }
   }
  },
  {
   "cell_type": "code",
   "execution_count": 5,
   "metadata": {},
   "outputs": [],
   "source": [
    "def call_value(stock_price, strike_price):\n",
    "    return np.maximum(0, stock_price - strike_price)\n",
    "    \n",
    "def put_value(stock_price, strike_price):\n",
    "    return np.maximum(0, strike_price - stock_price)"
   ]
  },
  {
   "cell_type": "code",
   "execution_count": 8,
   "outputs": [],
   "source": [
    "log_stock = simulate_rough_SABR(n, m, terminal_time=terminal_time, log_spot_price=log_spot_price,\n",
    "                                inst_vola=inst_vola, inst_vola_of_vola=inst_vola_of_vola, vola_of_vola=vola_of_vola,\n",
    "                                correlation=correlation, local_vola=local_vola, alpha=alpha)\n",
    "stock = np.exp(log_stock)"
   ],
   "metadata": {
    "collapsed": false,
    "pycharm": {
     "name": "#%%\n"
    }
   }
  },
  {
   "cell_type": "code",
   "execution_count": 9,
   "metadata": {},
   "outputs": [
    {
     "name": "stdout",
     "output_type": "stream",
     "text": [
      "99\n"
     ]
    }
   ],
   "source": [
    "for i in range(len(maturity_times)):\n",
    "    time_index = int(maturity_times[i] * n/np.amax(maturity_times)) - 1\n",
    "    print(time_index)\n",
    "    for j in range(len(strike_prices)):\n",
    "        call_option_prices[i, j] = np.average(call_value(stock[time_index], strike_prices[j]))\n",
    "        put_option_prices[i, j] = np.average(call_value(stock[time_index], strike_prices[j]))"
   ]
  },
  {
   "cell_type": "markdown",
   "metadata": {},
   "source": [
    "Below is everything in one box in function form"
   ]
  },
  {
   "cell_type": "code",
   "execution_count": 60,
   "metadata": {},
   "outputs": [],
   "source": []
  },
  {
   "cell_type": "code",
   "execution_count": null,
   "metadata": {},
   "outputs": [],
   "source": []
  }
 ],
 "metadata": {
  "kernelspec": {
   "display_name": "Python 3",
   "language": "python",
   "name": "python3"
  },
  "language_info": {
   "codemirror_mode": {
    "name": "ipython",
    "version": 3
   },
   "file_extension": ".py",
   "mimetype": "text/x-python",
   "name": "python",
   "nbconvert_exporter": "python",
   "pygments_lexer": "ipython3",
   "version": "3.7.7"
  }
 },
 "nbformat": 4,
 "nbformat_minor": 4
}