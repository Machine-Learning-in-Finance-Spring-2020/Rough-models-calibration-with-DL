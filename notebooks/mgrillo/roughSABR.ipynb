{
 "cells": [
  {
   "cell_type": "code",
   "execution_count": 1,
   "metadata": {},
   "outputs": [],
   "source": [
    "import numpy as np\n",
    "from scipy import signal\n",
    "\n",
    "import math\n",
    "\n",
    "import matplotlib.pyplot as plt\n",
    "from tqdm import tqdm\n",
    "\n",
    "%load_ext autoreload\n",
    "%autoreload 2"
   ]
  },
  {
   "cell_type": "markdown",
   "metadata": {},
   "source": [
    "TODO: \n",
    "- test"
   ]
  },
  {
   "cell_type": "markdown",
   "metadata": {},
   "source": [
    "In this notebook, we simulate a rough version of the SABR-Local Stochastic Volatility model, which is given by\n",
    "$$\n",
    "    \\begin{cases}\n",
    "        dS_t = S_t L(t, S_t) V^\\alpha_t dW_t \\\\\n",
    "        dV_t = \\nu V_t dB_t \\\\\n",
    "        V^\\alpha_t = \\mathcal{G^\\alpha}\\{V_t\\} \\\\\n",
    "        d\\langle W, B \\rangle_t = \\rho dt\n",
    "    \\end{cases}\n",
    "$$\n",
    "with\n",
    "$$\n",
    "    \\mathcal{G^\\alpha}\\{f\\}(t) := \\begin{cases} \\int_0^t f(s) \\frac{d}{dt}g(t-s)ds, \\quad \\text{if } \\alpha \\in [0, \\frac{1}{2}) \\\\\n",
    "    \\frac{d}{dt}\\int_0^t f(s)g(t-s)ds, \\quad \\text{if } \\alpha \\in (-\\frac{1}{2}, 0)\n",
    "    \\end{cases}\n",
    "$$"
   ]
  },
  {
   "cell_type": "code",
   "execution_count": 17,
   "metadata": {},
   "outputs": [],
   "source": [
    "n = 1000 # Number of timesteps\n",
    "sqrtn = math.sqrt(n) \n",
    "M = 1 # Number of simulations\n",
    "rho = 1 # Correlation between the normal distributions dzeta and eta\n",
    "T = 1 # Total time\n",
    "\n",
    "# Some volatility parameters\n",
    "vola_0 = 1 # initial value of the non-rough vola\n",
    "nu = 1\n",
    "alpha = -0.25 # Alpha as in G^\\alpha. It has to lie in (-.5, .5) to have any meaning. For negative alphas, you get roughness. 'equivalent' to fBM with H = alpha + .5\n",
    "X_0 = 1 # initial value of X, the log-stock price "
   ]
  },
  {
   "cell_type": "code",
   "execution_count": 3,
   "metadata": {},
   "outputs": [
    {
     "name": "stderr",
     "output_type": "stream",
     "text": [
      "C:\\Users\\milog\\Anaconda3\\envs\\MLIF Project\\lib\\site-packages\\ipykernel_launcher.py:2: RuntimeWarning: divide by zero encountered in power\n",
      "  \n"
     ]
    }
   ],
   "source": [
    "def g(t):\n",
    "    return t**alpha\n",
    "g_vector = np.fromfunction(lambda i: g(T*i/n), shape=(n,), dtype=int)\n",
    "g_vector[0] = 0"
   ]
  },
  {
   "cell_type": "code",
   "execution_count": 12,
   "metadata": {},
   "outputs": [],
   "source": [
    "def b(y):\n",
    "    return 0\n",
    "def a(y):\n",
    "    return nu*y\n",
    "def Phi(y):\n",
    "    return y**2"
   ]
  },
  {
   "cell_type": "code",
   "execution_count": 40,
   "metadata": {},
   "outputs": [],
   "source": [
    "vola = np.zeros((n,)) # The discretised non-rough volatility process\n",
    "Delta_vola = np.zeros((n,)) # non-rough volatility increments vola_i - vola_{i-1}"
   ]
  },
  {
   "cell_type": "markdown",
   "metadata": {},
   "source": [
    "The system is ran according to\n",
    "$$\n",
    "\\begin{cases} \n",
    "dX_t = V_t^\\alpha L(t, X_t) dW_t - \\frac{1}{2}(V_t^\\alpha)^2 L^2(t, X_t)dt \\\\\n",
    "dV_t = \\nu V_t dB_t \\\\\n",
    "V_t^\\alpha = \\mathcal{G}^\\alpha\\{V_t\\} \\\\\n",
    "d\\langle W, B \\rangle_t = \\rho dt\n",
    "\\end{cases}\n",
    "$$\n",
    "Where $X := \\log(S)$ is the log stock price and L is the leverage function, see see <cite data-cite=\"horvath2017functional\">Horvath, Blanka, Antoine Jack Jacquier, and Aitor Muguruza. \"Functional central limit theorems for rough volatility.\" Available at SSRN 3078743 (2017)</cite>"
   ]
  },
  {
   "cell_type": "code",
   "execution_count": 42,
   "metadata": {},
   "outputs": [],
   "source": [
    "W = np.random.normal(0.0, 1.0, size=(n,)) # The unscaled brownian motion increments\n",
    "vola[0] = vola_0\n",
    "for i in range(1, n):\n",
    "    vola[i] = vola[i-1] + (T/n)*b(vola[i-1]) + (T/sqrtn)*a(vola[i-1])*W[i-1]\n",
    "    Delta_vola[i] = vola[i] - vola[i - 1]"
   ]
  },
  {
   "cell_type": "code",
   "execution_count": 19,
   "metadata": {},
   "outputs": [],
   "source": [
    "rough_vola = signal.fftconvolve(g_vector, Delta_vola, 'same')"
   ]
  },
  {
   "cell_type": "code",
   "execution_count": 20,
   "metadata": {},
   "outputs": [],
   "source": [
    "X = np.zeros((M, n))\n",
    "for j in range(M):\n",
    "    # Create correlated Brownian motion\n",
    "    randoms = np.random.normal(0.0, 1.0, size=(n,))\n",
    "    B = rho*W + math.sqrt(1 - rho**2) * randoms\n",
    "    X[j, 0] = X_0\n",
    "    for i in range(1, n):\n",
    "        X[j, i] = X[j, i-1] - (1/2)*(T/n)*Phi(rough_vola[i-1]) + math.sqrt((T/n) * Phi(rough_vola[i-1])) * B[i-1]"
   ]
  },
  {
   "cell_type": "code",
   "execution_count": 46,
   "metadata": {},
   "outputs": [],
   "source": [
    "# A function which gives the brownian motion used to generate the rough volatility and the volatility.\n",
    "def rough_volatility():\n",
    "    vola = np.zeros((n,))\n",
    "    Delta_vola = np.zeros((n,))\n",
    "    W = np.random.normal(0.0, 1.0, size=(n,))\n",
    "    g_vector = np.fromfunction(lambda i: g(T*i/n), shape=(n,), dtype=int)\n",
    "    vola[0] = vola_0\n",
    "    for i in range(1, n):\n",
    "        vola[i] = vola[i-1] + (T/n)*b(vola[i-1]) + (T/sqrtn)*a(vola[i-1])*W[i-1]\n",
    "        Delta_vola[i] = vola[i] - vola[i - 1]\n",
    "    rough_vola = signal.fftconvolve(g_vector, Delta_vola, 'same')\n",
    "    return (W, G_alpha_Y)"
   ]
  },
  {
   "cell_type": "code",
   "execution_count": null,
   "metadata": {},
   "outputs": [],
   "source": []
  }
 ],
 "metadata": {
  "kernelspec": {
   "display_name": "Python 3",
   "language": "python",
   "name": "python3"
  },
  "language_info": {
   "codemirror_mode": {
    "name": "ipython",
    "version": 3
   },
   "file_extension": ".py",
   "mimetype": "text/x-python",
   "name": "python",
   "nbconvert_exporter": "python",
   "pygments_lexer": "ipython3",
   "version": "3.7.7"
  }
 },
 "nbformat": 4,
 "nbformat_minor": 4
}
